{
 "cells": [
  {
   "cell_type": "code",
   "execution_count": 1,
   "metadata": {},
   "outputs": [],
   "source": [
    "import pandas as pd\n",
    "import numpy as np\n",
    "import matplotlib.pyplot as plt\n",
    "%matplotlib inline\n",
    "import seaborn as sns\n",
    "import nltk"
   ]
  },
  {
   "cell_type": "code",
   "execution_count": 2,
   "metadata": {},
   "outputs": [],
   "source": [
    "url = 'https://www.livemint.com/Politics/7E4i02tAzs9FYMFCN5FHgN/Quota-bill-granting-10-reservation-to-economically-weaker-s.html'\n",
    "\n",
    "from selenium import webdriver\n",
    "\n",
    "browser = webdriver.Chrome('chromedriver.exe')\n",
    "browser.get(url)"
   ]
  },
  {
   "cell_type": "code",
   "execution_count": 17,
   "metadata": {},
   "outputs": [],
   "source": [
    "parent_tags = browser.find_element_by_css_selector('div')"
   ]
  },
  {
   "cell_type": "code",
   "execution_count": 19,
   "metadata": {},
   "outputs": [
    {
     "data": {
      "text/plain": [
       "14"
      ]
     },
     "execution_count": 19,
     "metadata": {},
     "output_type": "execute_result"
    }
   ],
   "source": [
    "div_tag = browser.find_element_by_css_selector('div.content')\n",
    "para_tags = div_tag.find_elements_by_css_selector('p')\n",
    "len(para_tags)"
   ]
  },
  {
   "cell_type": "code",
   "execution_count": 20,
   "metadata": {},
   "outputs": [],
   "source": [
    "from bs4 import BeautifulSoup\n",
    "\n",
    "sentences = ''\n",
    "for para in para_tags:\n",
    "    para_text = para.get_attribute('innerHTML')\n",
    "    sentences = sentences+ ' ' + para_text\n",
    "    sentences = BeautifulSoup(sentences, 'html.parser').text"
   ]
  },
  {
   "cell_type": "code",
   "execution_count": 23,
   "metadata": {},
   "outputs": [
    {
     "name": "stdout",
     "output_type": "stream",
     "text": [
      "New Delhi: A constitution amendment bill granting 10% reservation for economically weaker sections of the general category was challenged in the Supreme Court on Thursday, a day after Parliament approved the draft law.\n",
      "-----------------------\n",
      "Its president, Kaushal Kant Mishra, claimed that the amendment violates several basic features of the Constitution.\n",
      "-----------------------\n",
      "The amendment, which introduced Articles 15(6) and 16(6) into the Constitution, violates the equality code of the Constitution and was in “breach of the basic structure of the Constitution”, he added.\n",
      "-----------------------\n",
      "This is left to be notified by the states, which is “arbitrary and unworkable”, said the petitioners.\n",
      "-----------------------\n",
      "The petition relied on the 1992 Supreme Court judgement in the Indira Sawhney vs Union of India case, where a Constitution bench had specifically stated that economic criteria cannot be the sole basis for reservations under the Constitution.\n",
      "-----------------------\n",
      "“The impugned amendment fails to consider that Articles 14 (equality before law) and 16 (equality of opportunity in public employment) form the basic feature of equality, and that they have been violated with the doing away of the restraints that were imposed on the reservation policy, i.e. the 50% ceiling limit and the exclusion of economic status as a sole criterion,” the plea added.\n",
      "-----------------------\n",
      "On Wednesday, the Rajya Sabha passed the Constitution (124th Amendment) Bill, 2019, with the opposition divided over its stance on the legislation.\n",
      "-----------------------\n",
      "The quota bill was passed in the Rajya Sabha by 165 votes, more than two-thirds the majority of the House.\n",
      "-----------------------\n",
      "The Lok Sabha had passed the bill on Tuesday.\n",
      "-----------------------\n",
      "The bill will become law after the President’s assent, which is expected soon.\n",
      "-----------------------\n",
      "The passage of the bill, with all major opposition parties supporting it, is significant as it comes ahead of the 2019 Lok Sabha elections due by May.\n",
      "-----------------------\n",
      "The 124th Amendment Bill provides for 10% reservation to economically weaker sections in the general category, especially upper castes.\n",
      "-----------------------\n",
      "“Weaker section beneficiaries” include people earning less than ₹8 lakh annually; owning less than five hectares of agricultural land, residential property of less than 1,000 sq.\n",
      "-----------------------\n",
      "ft and a residential plot less than 109 square yards in a notified municipality, or 209 square yards in a non-notified municipality.\n",
      "-----------------------\n"
     ]
    }
   ],
   "source": [
    "from sumy.parsers.plaintext import PlaintextParser\n",
    "from sumy.nlp.tokenizers import Tokenizer\n",
    "from sumy.summarizers.lex_rank import LexRankSummarizer\n",
    "\n",
    "parser = PlaintextParser(sentences, Tokenizer('english'))\n",
    "summarizer = LexRankSummarizer()\n",
    "summarized_sentences = summarizer(parser.document, 14)\n",
    "\n",
    "for sentence in summarized_sentences:\n",
    "    print(sentence)\n",
    "    print('-----------------------')"
   ]
  }
 ],
 "metadata": {
  "kernelspec": {
   "display_name": "Python 3",
   "language": "python",
   "name": "python3"
  },
  "language_info": {
   "codemirror_mode": {
    "name": "ipython",
    "version": 3
   },
   "file_extension": ".py",
   "mimetype": "text/x-python",
   "name": "python",
   "nbconvert_exporter": "python",
   "pygments_lexer": "ipython3",
   "version": "3.7.1"
  }
 },
 "nbformat": 4,
 "nbformat_minor": 2
}
